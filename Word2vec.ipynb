{
 "cells": [
  {
   "cell_type": "code",
   "execution_count": 6,
   "metadata": {},
   "outputs": [
    {
     "name": "stdout",
     "output_type": "stream",
     "text": [
      "Collecting gensim\n",
      "  Downloading https://files.pythonhosted.org/packages/fa/f1/713499c2004ed7a1db48df6fc4d01e559f82ec80db8b8e759e4a9effceb5/gensim-3.8.3-cp38-cp38-win_amd64.whl (24.2MB)\n",
      "Collecting smart-open>=1.8.1 (from gensim)\n",
      "  Downloading https://files.pythonhosted.org/packages/0b/8e/464b06f5efd26f2dc16ce7bd1662c2f31cadf9104fdbcbf5994674cc3a51/smart_open-2.1.0.tar.gz (116kB)\n",
      "Requirement already satisfied: six>=1.5.0 in c:\\users\\ram\\appdata\\local\\programs\\python\\python38\\lib\\site-packages (from gensim) (1.14.0)\n",
      "Collecting Cython==0.29.14 (from gensim)\n",
      "  Downloading https://files.pythonhosted.org/packages/41/2c/9d873fc8d1be29af12a1d41707461399327396da10e50e183754aa4136b9/Cython-0.29.14-cp38-cp38-win_amd64.whl (1.7MB)\n",
      "Requirement already satisfied: scipy>=0.18.1 in c:\\users\\ram\\appdata\\local\\programs\\python\\python38\\lib\\site-packages (from gensim) (1.4.1)\n",
      "Requirement already satisfied: numpy>=1.11.3 in c:\\users\\ram\\appdata\\local\\programs\\python\\python38\\lib\\site-packages (from gensim) (1.18.2)\n",
      "Requirement already satisfied: requests in c:\\users\\ram\\appdata\\local\\programs\\python\\python38\\lib\\site-packages (from smart-open>=1.8.1->gensim) (2.23.0)\n",
      "Collecting boto (from smart-open>=1.8.1->gensim)\n",
      "  Downloading https://files.pythonhosted.org/packages/23/10/c0b78c27298029e4454a472a1919bde20cb182dab1662cec7f2ca1dcc523/boto-2.49.0-py2.py3-none-any.whl (1.4MB)\n",
      "Collecting boto3 (from smart-open>=1.8.1->gensim)\n",
      "  Downloading https://files.pythonhosted.org/packages/7a/05/d52d446a5abcbb73f6661559943ae5d93c42ecb18977670a2d21718774ec/boto3-1.14.33-py2.py3-none-any.whl (129kB)\n",
      "Requirement already satisfied: chardet<4,>=3.0.2 in c:\\users\\ram\\appdata\\local\\programs\\python\\python38\\lib\\site-packages (from requests->smart-open>=1.8.1->gensim) (3.0.4)\n",
      "Requirement already satisfied: urllib3!=1.25.0,!=1.25.1,<1.26,>=1.21.1 in c:\\users\\ram\\appdata\\local\\programs\\python\\python38\\lib\\site-packages (from requests->smart-open>=1.8.1->gensim) (1.25.8)\n",
      "Requirement already satisfied: certifi>=2017.4.17 in c:\\users\\ram\\appdata\\local\\programs\\python\\python38\\lib\\site-packages (from requests->smart-open>=1.8.1->gensim) (2019.11.28)\n",
      "Requirement already satisfied: idna<3,>=2.5 in c:\\users\\ram\\appdata\\local\\programs\\python\\python38\\lib\\site-packages (from requests->smart-open>=1.8.1->gensim) (2.9)\n",
      "Collecting s3transfer<0.4.0,>=0.3.0 (from boto3->smart-open>=1.8.1->gensim)\n",
      "  Downloading https://files.pythonhosted.org/packages/69/79/e6afb3d8b0b4e96cefbdc690f741d7dd24547ff1f94240c997a26fa908d3/s3transfer-0.3.3-py2.py3-none-any.whl (69kB)\n",
      "Collecting jmespath<1.0.0,>=0.7.1 (from boto3->smart-open>=1.8.1->gensim)\n",
      "  Downloading https://files.pythonhosted.org/packages/07/cb/5f001272b6faeb23c1c9e0acc04d48eaaf5c862c17709d20e3469c6e0139/jmespath-0.10.0-py2.py3-none-any.whl\n",
      "Collecting botocore<1.18.0,>=1.17.33 (from boto3->smart-open>=1.8.1->gensim)\n",
      "  Downloading https://files.pythonhosted.org/packages/ad/92/a134eb08fa2c96d105d22dd2f5fbf6af1e13d6fc349f76e61e07702e468a/botocore-1.17.33-py2.py3-none-any.whl (6.5MB)\n",
      "Collecting docutils<0.16,>=0.10 (from botocore<1.18.0,>=1.17.33->boto3->smart-open>=1.8.1->gensim)\n",
      "  Downloading https://files.pythonhosted.org/packages/22/cd/a6aa959dca619918ccb55023b4cb151949c64d4d5d55b3f4ffd7eee0c6e8/docutils-0.15.2-py3-none-any.whl (547kB)\n",
      "Note: you may need to restart the kernel to use updated packages.\n"
     ]
    },
    {
     "name": "stderr",
     "output_type": "stream",
     "text": [
      "  WARNING: Retrying (Retry(total=4, connect=None, read=None, redirect=None, status=None)) after connection broken by 'ConnectTimeoutError(<pip._vendor.urllib3.connection.VerifiedHTTPSConnection object at 0x0000019B24BF47C0>, 'Connection to pypi.org timed out. (connect timeout=15)')': /simple/gensim/\n",
      "  WARNING: Retrying (Retry(total=3, connect=None, read=None, redirect=None, status=None)) after connection broken by 'ConnectTimeoutError(<pip._vendor.urllib3.connection.VerifiedHTTPSConnection object at 0x0000019B24BF44C0>, 'Connection to pypi.org timed out. (connect timeout=15)')': /simple/gensim/\n",
      "  WARNING: Retrying (Retry(total=2, connect=None, read=None, redirect=None, status=None)) after connection broken by 'ConnectTimeoutError(<pip._vendor.urllib3.connection.VerifiedHTTPSConnection object at 0x0000019B24BF4070>, 'Connection to pypi.org timed out. (connect timeout=15)')': /simple/gensim/\n",
      "WARNING: You are using pip version 19.2.3, however version 20.2 is available.\n",
      "You should consider upgrading via the 'python -m pip install --upgrade pip' command.\n"
     ]
    },
    {
     "name": "stdout",
     "output_type": "stream",
     "text": [
      "Requirement already satisfied: python-dateutil<3.0.0,>=2.1 in c:\\users\\ram\\appdata\\local\\programs\\python\\python38\\lib\\site-packages (from botocore<1.18.0,>=1.17.33->boto3->smart-open>=1.8.1->gensim) (2.8.1)\n",
      "Building wheels for collected packages: smart-open\n",
      "  Building wheel for smart-open (setup.py): started\n",
      "  Building wheel for smart-open (setup.py): finished with status 'done'\n",
      "  Created wheel for smart-open: filename=smart_open-2.1.0-cp38-none-any.whl size=110323 sha256=026f63366587c3779cdabbe1e48c7a5286068d352fde2319538ad80e0724fa44\n",
      "  Stored in directory: C:\\Users\\ram\\AppData\\Local\\pip\\Cache\\wheels\\25\\6c\\db\\7dcb26f19fb260c5629af85ed1c8ef9641143444fc7ec1fa08\n",
      "Successfully built smart-open\n",
      "Installing collected packages: boto, docutils, jmespath, botocore, s3transfer, boto3, smart-open, Cython, gensim\n",
      "Successfully installed Cython-0.29.14 boto-2.49.0 boto3-1.14.33 botocore-1.17.33 docutils-0.15.2 gensim-3.8.3 jmespath-0.10.0 s3transfer-0.3.3 smart-open-2.1.0\n"
     ]
    }
   ],
   "source": [
    "pip install gensim"
   ]
  },
  {
   "cell_type": "code",
   "execution_count": 7,
   "metadata": {},
   "outputs": [],
   "source": [
    "import nltk\n",
    "\n",
    "from gensim.models import Word2Vec\n",
    "from nltk.corpus import stopwords\n"
   ]
  },
  {
   "cell_type": "code",
   "execution_count": 8,
   "metadata": {},
   "outputs": [],
   "source": [
    "import re\n"
   ]
  },
  {
   "cell_type": "code",
   "execution_count": 9,
   "metadata": {},
   "outputs": [],
   "source": [
    "paragraph = \"\"\"I have three visions for India. In 3000 years of our history, people from all over \n",
    "               the world have come and invaded us, captured our lands, conquered our minds. \n",
    "               From Alexander onwards, the Greeks, the Turks, the Moguls, the Portuguese, the British,\n",
    "               the French, the Dutch, all of them came and looted us, took over what was ours. \n",
    "               Yet we have not done this to any other nation. We have not conquered anyone. \n",
    "               We have not grabbed their land, their culture, \n",
    "               their history and tried to enforce our way of life on them. \n",
    "               Why? Because we respect the freedom of others.That is why my \n",
    "               first vision is that of freedom. I believe that India got its first vision of \n",
    "               this in 1857, when we started the War of Independence. It is this freedom that\n",
    "               we must protect and nurture and build on. If we are not free, no one will respect us.\n",
    "               My second vision for India’s development. For fifty years we have been a developing nation.\n",
    "               It is time we see ourselves as a developed nation. We are among the top 5 nations of the world\n",
    "               in terms of GDP. We have a 10 percent growth rate in most areas. Our poverty levels are falling.\n",
    "               Our achievements are being globally recognised today. Yet we lack the self-confidence to\n",
    "               see ourselves as a developed nation, self-reliant and self-assured. Isn’t this incorrect?\n",
    "               I have a third vision. India must stand up to the world. Because I believe that unless India \n",
    "               stands up to the world, no one will respect us. Only strength respects strength. We must be \n",
    "               strong not only as a military power but also as an economic power. Both must go hand-in-hand. \n",
    "               My good fortune was to have worked with three great minds. Dr. Vikram Sarabhai of the Dept. of \n",
    "               space, Professor Satish Dhawan, who succeeded him and Dr. Brahm Prakash, father of nuclear material.\n",
    "               I was lucky to have worked with all three of them closely and consider this the great opportunity of my life. \n",
    "               I see four milestones in my career\"\"\"\n",
    "\n"
   ]
  },
  {
   "cell_type": "code",
   "execution_count": 10,
   "metadata": {},
   "outputs": [],
   "source": [
    "# Preprocessing the data\n",
    "text = re.sub(r'\\[[0-9]*\\]',' ',paragraph)\n",
    "text = re.sub(r'\\s+',' ',text)\n",
    "text = text.lower()\n",
    "text = re.sub(r'\\d',' ',text)\n",
    "text = re.sub(r'\\s+',' ',text)\n"
   ]
  },
  {
   "cell_type": "code",
   "execution_count": 11,
   "metadata": {},
   "outputs": [],
   "source": [
    "# Preparing the dataset\n",
    "sentences = nltk.sent_tokenize(text)\n"
   ]
  },
  {
   "cell_type": "code",
   "execution_count": 12,
   "metadata": {},
   "outputs": [],
   "source": [
    "sentences = [nltk.word_tokenize(sentence) for sentence in sentences]\n"
   ]
  },
  {
   "cell_type": "code",
   "execution_count": 13,
   "metadata": {},
   "outputs": [],
   "source": [
    "for i in range(len(sentences)):\n",
    "    sentences[i] = [word for word in sentences[i] if word not in stopwords.words('english')]\n"
   ]
  },
  {
   "cell_type": "code",
   "execution_count": 14,
   "metadata": {},
   "outputs": [],
   "source": [
    "# Training the Word2Vec model\n",
    "model = Word2Vec(sentences, min_count=1)\n"
   ]
  },
  {
   "cell_type": "code",
   "execution_count": 15,
   "metadata": {},
   "outputs": [],
   "source": [
    "words = model.wv.vocab\n",
    "\n",
    "# Finding Word Vectors\n",
    "vector = model.wv['war']\n",
    "\n",
    "# Most similar words\n",
    "similar = model.wv.most_similar('vikram')"
   ]
  },
  {
   "cell_type": "code",
   "execution_count": 16,
   "metadata": {},
   "outputs": [
    {
     "data": {
      "text/plain": [
       "{'three': <gensim.models.keyedvectors.Vocab at 0x22ccbfa1c70>,\n",
       " 'visions': <gensim.models.keyedvectors.Vocab at 0x22ccd7b3b20>,\n",
       " 'india': <gensim.models.keyedvectors.Vocab at 0x22ccd7b3970>,\n",
       " '.': <gensim.models.keyedvectors.Vocab at 0x22ccd7b37f0>,\n",
       " 'years': <gensim.models.keyedvectors.Vocab at 0x22ccd7b3af0>,\n",
       " 'history': <gensim.models.keyedvectors.Vocab at 0x22ccd7b3c40>,\n",
       " ',': <gensim.models.keyedvectors.Vocab at 0x22ccd7b3d90>,\n",
       " 'people': <gensim.models.keyedvectors.Vocab at 0x22ccd7b39d0>,\n",
       " 'world': <gensim.models.keyedvectors.Vocab at 0x22ccd7b3e80>,\n",
       " 'come': <gensim.models.keyedvectors.Vocab at 0x22ccd7b3c10>,\n",
       " 'invaded': <gensim.models.keyedvectors.Vocab at 0x22ccd7b3be0>,\n",
       " 'us': <gensim.models.keyedvectors.Vocab at 0x22ccd7b3b50>,\n",
       " 'captured': <gensim.models.keyedvectors.Vocab at 0x22ccd91d070>,\n",
       " 'lands': <gensim.models.keyedvectors.Vocab at 0x22ccd91d0d0>,\n",
       " 'conquered': <gensim.models.keyedvectors.Vocab at 0x22ccd91d130>,\n",
       " 'minds': <gensim.models.keyedvectors.Vocab at 0x22ccd91d190>,\n",
       " 'alexander': <gensim.models.keyedvectors.Vocab at 0x22ccd91d1f0>,\n",
       " 'onwards': <gensim.models.keyedvectors.Vocab at 0x22ccd91d250>,\n",
       " 'greeks': <gensim.models.keyedvectors.Vocab at 0x22ccd91d2b0>,\n",
       " 'turks': <gensim.models.keyedvectors.Vocab at 0x22ccd91d310>,\n",
       " 'moguls': <gensim.models.keyedvectors.Vocab at 0x22ccd91d370>,\n",
       " 'portuguese': <gensim.models.keyedvectors.Vocab at 0x22ccd91d3d0>,\n",
       " 'british': <gensim.models.keyedvectors.Vocab at 0x22ccd91d430>,\n",
       " 'french': <gensim.models.keyedvectors.Vocab at 0x22ccd91d490>,\n",
       " 'dutch': <gensim.models.keyedvectors.Vocab at 0x22ccd91d4f0>,\n",
       " 'came': <gensim.models.keyedvectors.Vocab at 0x22ccd91d550>,\n",
       " 'looted': <gensim.models.keyedvectors.Vocab at 0x22ccd91d5b0>,\n",
       " 'took': <gensim.models.keyedvectors.Vocab at 0x22ccd91d610>,\n",
       " 'yet': <gensim.models.keyedvectors.Vocab at 0x22ccd91d670>,\n",
       " 'done': <gensim.models.keyedvectors.Vocab at 0x22ccd91d6d0>,\n",
       " 'nation': <gensim.models.keyedvectors.Vocab at 0x22ccd91d730>,\n",
       " 'anyone': <gensim.models.keyedvectors.Vocab at 0x22ccd91d790>,\n",
       " 'grabbed': <gensim.models.keyedvectors.Vocab at 0x22ccd91d7f0>,\n",
       " 'land': <gensim.models.keyedvectors.Vocab at 0x22ccd91d850>,\n",
       " 'culture': <gensim.models.keyedvectors.Vocab at 0x22ccd91d8b0>,\n",
       " 'tried': <gensim.models.keyedvectors.Vocab at 0x22ccd91d910>,\n",
       " 'enforce': <gensim.models.keyedvectors.Vocab at 0x22ccd91d970>,\n",
       " 'way': <gensim.models.keyedvectors.Vocab at 0x22ccd91d9d0>,\n",
       " 'life': <gensim.models.keyedvectors.Vocab at 0x22ccd91da30>,\n",
       " '?': <gensim.models.keyedvectors.Vocab at 0x22ccd91da90>,\n",
       " 'respect': <gensim.models.keyedvectors.Vocab at 0x22ccd91daf0>,\n",
       " 'freedom': <gensim.models.keyedvectors.Vocab at 0x22ccd91db50>,\n",
       " 'others.that': <gensim.models.keyedvectors.Vocab at 0x22ccd91dbb0>,\n",
       " 'first': <gensim.models.keyedvectors.Vocab at 0x22ccd91dc10>,\n",
       " 'vision': <gensim.models.keyedvectors.Vocab at 0x22ccd91dc70>,\n",
       " 'believe': <gensim.models.keyedvectors.Vocab at 0x22ccd91dcd0>,\n",
       " 'got': <gensim.models.keyedvectors.Vocab at 0x22ccd91dd30>,\n",
       " 'started': <gensim.models.keyedvectors.Vocab at 0x22ccd91dd90>,\n",
       " 'war': <gensim.models.keyedvectors.Vocab at 0x22ccd91ddf0>,\n",
       " 'independence': <gensim.models.keyedvectors.Vocab at 0x22ccd91de50>,\n",
       " 'must': <gensim.models.keyedvectors.Vocab at 0x22ccd91deb0>,\n",
       " 'protect': <gensim.models.keyedvectors.Vocab at 0x22ccd91df10>,\n",
       " 'nurture': <gensim.models.keyedvectors.Vocab at 0x22ccd91df70>,\n",
       " 'build': <gensim.models.keyedvectors.Vocab at 0x22ccd91dfd0>,\n",
       " 'free': <gensim.models.keyedvectors.Vocab at 0x22ccd91e070>,\n",
       " 'one': <gensim.models.keyedvectors.Vocab at 0x22ccd91e0d0>,\n",
       " 'second': <gensim.models.keyedvectors.Vocab at 0x22ccd91e130>,\n",
       " '’': <gensim.models.keyedvectors.Vocab at 0x22ccd91e190>,\n",
       " 'development': <gensim.models.keyedvectors.Vocab at 0x22ccd91e1f0>,\n",
       " 'fifty': <gensim.models.keyedvectors.Vocab at 0x22ccd91e250>,\n",
       " 'developing': <gensim.models.keyedvectors.Vocab at 0x22ccd91e2b0>,\n",
       " 'time': <gensim.models.keyedvectors.Vocab at 0x22ccd91e310>,\n",
       " 'see': <gensim.models.keyedvectors.Vocab at 0x22ccd91e370>,\n",
       " 'developed': <gensim.models.keyedvectors.Vocab at 0x22ccd91e3d0>,\n",
       " 'among': <gensim.models.keyedvectors.Vocab at 0x22ccd91e430>,\n",
       " 'top': <gensim.models.keyedvectors.Vocab at 0x22ccd91e490>,\n",
       " 'nations': <gensim.models.keyedvectors.Vocab at 0x22ccd91e4f0>,\n",
       " 'terms': <gensim.models.keyedvectors.Vocab at 0x22ccd91e550>,\n",
       " 'gdp': <gensim.models.keyedvectors.Vocab at 0x22ccd91e5b0>,\n",
       " 'percent': <gensim.models.keyedvectors.Vocab at 0x22ccd91e610>,\n",
       " 'growth': <gensim.models.keyedvectors.Vocab at 0x22ccd91e670>,\n",
       " 'rate': <gensim.models.keyedvectors.Vocab at 0x22ccd91e6d0>,\n",
       " 'areas': <gensim.models.keyedvectors.Vocab at 0x22ccd91e730>,\n",
       " 'poverty': <gensim.models.keyedvectors.Vocab at 0x22ccd91e790>,\n",
       " 'levels': <gensim.models.keyedvectors.Vocab at 0x22ccd91e7f0>,\n",
       " 'falling': <gensim.models.keyedvectors.Vocab at 0x22ccd91e850>,\n",
       " 'achievements': <gensim.models.keyedvectors.Vocab at 0x22ccd91e8b0>,\n",
       " 'globally': <gensim.models.keyedvectors.Vocab at 0x22ccd91e910>,\n",
       " 'recognised': <gensim.models.keyedvectors.Vocab at 0x22ccd91e970>,\n",
       " 'today': <gensim.models.keyedvectors.Vocab at 0x22ccd91e9d0>,\n",
       " 'lack': <gensim.models.keyedvectors.Vocab at 0x22ccd91ea30>,\n",
       " 'self-confidence': <gensim.models.keyedvectors.Vocab at 0x22ccd91ea90>,\n",
       " 'self-reliant': <gensim.models.keyedvectors.Vocab at 0x22ccd91eaf0>,\n",
       " 'self-assured': <gensim.models.keyedvectors.Vocab at 0x22ccd91eb50>,\n",
       " 'incorrect': <gensim.models.keyedvectors.Vocab at 0x22ccd91ebb0>,\n",
       " 'third': <gensim.models.keyedvectors.Vocab at 0x22ccd91ec10>,\n",
       " 'stand': <gensim.models.keyedvectors.Vocab at 0x22ccd91ec70>,\n",
       " 'unless': <gensim.models.keyedvectors.Vocab at 0x22ccd91ecd0>,\n",
       " 'stands': <gensim.models.keyedvectors.Vocab at 0x22ccd91ed30>,\n",
       " 'strength': <gensim.models.keyedvectors.Vocab at 0x22ccd91ed90>,\n",
       " 'respects': <gensim.models.keyedvectors.Vocab at 0x22ccd91edf0>,\n",
       " 'strong': <gensim.models.keyedvectors.Vocab at 0x22ccd91ee50>,\n",
       " 'military': <gensim.models.keyedvectors.Vocab at 0x22ccd91eeb0>,\n",
       " 'power': <gensim.models.keyedvectors.Vocab at 0x22ccd91ef10>,\n",
       " 'also': <gensim.models.keyedvectors.Vocab at 0x22ccd91ef70>,\n",
       " 'economic': <gensim.models.keyedvectors.Vocab at 0x22ccd91efd0>,\n",
       " 'go': <gensim.models.keyedvectors.Vocab at 0x22ccd91f070>,\n",
       " 'hand-in-hand': <gensim.models.keyedvectors.Vocab at 0x22ccd91f0d0>,\n",
       " 'good': <gensim.models.keyedvectors.Vocab at 0x22ccd91f130>,\n",
       " 'fortune': <gensim.models.keyedvectors.Vocab at 0x22ccd91f190>,\n",
       " 'worked': <gensim.models.keyedvectors.Vocab at 0x22ccd91f1f0>,\n",
       " 'great': <gensim.models.keyedvectors.Vocab at 0x22ccd91f250>,\n",
       " 'dr.': <gensim.models.keyedvectors.Vocab at 0x22ccd91f2b0>,\n",
       " 'vikram': <gensim.models.keyedvectors.Vocab at 0x22ccd91f310>,\n",
       " 'sarabhai': <gensim.models.keyedvectors.Vocab at 0x22ccd91f370>,\n",
       " 'dept': <gensim.models.keyedvectors.Vocab at 0x22ccd91f3d0>,\n",
       " 'space': <gensim.models.keyedvectors.Vocab at 0x22ccd91f430>,\n",
       " 'professor': <gensim.models.keyedvectors.Vocab at 0x22ccd91f490>,\n",
       " 'satish': <gensim.models.keyedvectors.Vocab at 0x22ccd91f4f0>,\n",
       " 'dhawan': <gensim.models.keyedvectors.Vocab at 0x22ccd91f550>,\n",
       " 'succeeded': <gensim.models.keyedvectors.Vocab at 0x22ccd91f5b0>,\n",
       " 'brahm': <gensim.models.keyedvectors.Vocab at 0x22ccd91f610>,\n",
       " 'prakash': <gensim.models.keyedvectors.Vocab at 0x22ccd91f670>,\n",
       " 'father': <gensim.models.keyedvectors.Vocab at 0x22ccd91f6d0>,\n",
       " 'nuclear': <gensim.models.keyedvectors.Vocab at 0x22ccd91f730>,\n",
       " 'material': <gensim.models.keyedvectors.Vocab at 0x22ccd91f790>,\n",
       " 'lucky': <gensim.models.keyedvectors.Vocab at 0x22ccd91f7f0>,\n",
       " 'closely': <gensim.models.keyedvectors.Vocab at 0x22ccd91f850>,\n",
       " 'consider': <gensim.models.keyedvectors.Vocab at 0x22ccd91f8b0>,\n",
       " 'opportunity': <gensim.models.keyedvectors.Vocab at 0x22ccd91f910>,\n",
       " 'four': <gensim.models.keyedvectors.Vocab at 0x22ccd91f970>,\n",
       " 'milestones': <gensim.models.keyedvectors.Vocab at 0x22ccd91f9d0>,\n",
       " 'career': <gensim.models.keyedvectors.Vocab at 0x22ccd91fa30>}"
      ]
     },
     "execution_count": 16,
     "metadata": {},
     "output_type": "execute_result"
    }
   ],
   "source": [
    "words"
   ]
  },
  {
   "cell_type": "code",
   "execution_count": 17,
   "metadata": {},
   "outputs": [
    {
     "data": {
      "text/plain": [
       "[('also', 0.24572256207466125),\n",
       " ('vision', 0.2384333461523056),\n",
       " ('turks', 0.21716436743736267),\n",
       " ('done', 0.19594943523406982),\n",
       " ('’', 0.19161126017570496),\n",
       " ('life', 0.18660077452659607),\n",
       " ('history', 0.18651390075683594),\n",
       " ('globally', 0.16509351134300232),\n",
       " ('lack', 0.1580858826637268),\n",
       " ('grabbed', 0.15634669363498688)]"
      ]
     },
     "execution_count": 17,
     "metadata": {},
     "output_type": "execute_result"
    }
   ],
   "source": [
    "similar"
   ]
  },
  {
   "cell_type": "code",
   "execution_count": null,
   "metadata": {},
   "outputs": [],
   "source": []
  }
 ],
 "metadata": {
  "kernelspec": {
   "display_name": "Python 3",
   "language": "python",
   "name": "python3"
  }
 },
 "nbformat": 4,
 "nbformat_minor": 4
}
